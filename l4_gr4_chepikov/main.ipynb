{
 "cells": [
  {
   "cell_type": "code",
   "execution_count": null,
   "id": "a099ac7c-6555-4285-949c-50281c621e33",
   "metadata": {},
   "outputs": [],
   "source": [
    "!pip install deconvolution"
   ]
  },
  {
   "cell_type": "code",
   "execution_count": null,
   "id": "f9958be1-faec-4c7a-99ee-572e652bf929",
   "metadata": {},
   "outputs": [],
   "source": [
    "import numpy as np\n",
    "import matplotlib.pyplot as plt\n",
    "import cv2\n",
    "from numba import njit\n",
    "from deconvolution import Deconvolution\n",
    "from PIL import Image\n",
    "from skimage import io, color\n",
    "from sklearn.cluster import KMeans"
   ]
  },
  {
   "cell_type": "code",
   "execution_count": null,
   "id": "ca98e9a7-f53b-4097-8740-59aa69ace880",
   "metadata": {},
   "outputs": [],
   "source": [
    "def show_image(image, title='Image'):\n",
    "    plt.figure(figsize=(6, 6))\n",
    "    plt.imshow(image)\n",
    "    plt.title(title)\n",
    "    plt.axis('off')\n",
    "    plt.show()"
   ]
  },
  {
   "cell_type": "code",
   "execution_count": null,
   "id": "d0e16907-47e3-49fc-b971-6f2acd174fa7",
   "metadata": {},
   "outputs": [],
   "source": [
    "def save_image(image, filename='image.png'):\n",
    "    plt.imshow(image)\n",
    "    plt.axis('off') \n",
    "    plt.savefig(filename, bbox_inches='tight', pad_inches=0)\n",
    "    plt.close()"
   ]
  },
  {
   "cell_type": "code",
   "execution_count": null,
   "id": "f38664d6-c62f-4864-83c5-f3d527a3a72d",
   "metadata": {},
   "outputs": [],
   "source": [
    "def show_fullscreen_images(images, titles):\n",
    "    for title in titles:\n",
    "        cv2.namedWindow(title, cv2.WINDOW_NORMAL)\n",
    "        cv2.setWindowProperty(title, cv2.WND_PROP_FULLSCREEN, cv2.WINDOW_FULLSCREEN)\n",
    "\n",
    "    screen_width = cv2.getWindowImageRect(titles[0])[2] \n",
    "\n",
    "    num_images = len(images)\n",
    "    rows = int(np.ceil(num_images / 2))\n",
    "    window_width = screen_width // 2\n",
    "    window_height = screen_width // rows\n",
    "\n",
    "    for i, (img, title) in enumerate(zip(images, titles)):\n",
    "        window_width = int(window_width)\n",
    "        window_height = int(window_height)\n",
    "\n",
    "        resized_img = cv2.resize(img, (window_width, window_height))\n",
    "        \n",
    "        cv2.imshow(title, resized_img)\n",
    "    \n",
    "    cv2.waitKey(0)\n",
    "    cv2.destroyAllWindows()"
   ]
  },
  {
   "cell_type": "code",
   "execution_count": null,
   "id": "2d92a7af-ae35-417b-8f9f-0bf5a12abd27",
   "metadata": {},
   "outputs": [],
   "source": [
    "def before_after(before_image, after_image, title_before=\"Before\", title_after=\"After\"):\n",
    "    if before_image.dtype != np.uint8:\n",
    "        before_image = (before_image * 255).astype(np.uint8)\n",
    "    if after_image.dtype != np.uint8:\n",
    "        after_image = (after_image * 255).astype(np.uint8)\n",
    "\n",
    "    cv2.namedWindow(title_before, cv2.WINDOW_NORMAL)\n",
    "    cv2.namedWindow(title_after, cv2.WINDOW_NORMAL)\n",
    "\n",
    "    cv2.setWindowProperty(title_before, cv2.WND_PROP_FULLSCREEN, cv2.WINDOW_FULLSCREEN)\n",
    "    cv2.setWindowProperty(title_after, cv2.WND_PROP_FULLSCREEN, cv2.WINDOW_FULLSCREEN)\n",
    "\n",
    "    cv2.imshow(title_before, before_image)\n",
    "    cv2.imshow(title_after, after_image)\n",
    "\n",
    "    cv2.waitKey(0)\n",
    "    cv2.destroyAllWindows()"
   ]
  },
  {
   "cell_type": "code",
   "execution_count": null,
   "id": "6ec9adcd-1ca3-4fd7-a146-f10919837e65",
   "metadata": {
    "scrolled": true
   },
   "outputs": [],
   "source": [
    "image = io.imread('image003.jpg')\n",
    "show_image(image)"
   ]
  },
  {
   "cell_type": "markdown",
   "id": "60bb9c01-2c8b-4961-b13e-7be022e62d1f",
   "metadata": {},
   "source": [
    "## deconv"
   ]
  },
  {
   "cell_type": "markdown",
   "id": "04412d66-582c-44e3-a6e0-ad5384d352fd",
   "metadata": {},
   "source": [
    "does not work"
   ]
  },
  {
   "cell_type": "raw",
   "id": "6261b3b0-f4df-42e1-9bc8-2052b9654350",
   "metadata": {},
   "source": [
    "rgb_values = np.array([\n",
    "    [81, 84, 139],\n",
    "    [225, 84, 90],\n",
    "    [23, 90, 197]\n",
    "])\n",
    "\n",
    "def normalize_rgb(rgb):\n",
    "    return list(map(lambda x: x / 255.0, rgb))\n",
    "\n",
    "basis_vectors = list(map(normalize_rgb, rgb_values))"
   ]
  },
  {
   "cell_type": "raw",
   "id": "334393ae-687a-4a9e-aea5-002adaecb92a",
   "metadata": {},
   "source": [
    "def pil_to_np(image):\n",
    "    return np.array(image)\n",
    "\n",
    "def np_to_pil(array):\n",
    "    return Image.fromarray(array)"
   ]
  },
  {
   "cell_type": "raw",
   "id": "d16f7890-bf69-4268-bb8c-7099da4dd330",
   "metadata": {},
   "source": [
    "pimage = np_to_pil(image)"
   ]
  },
  {
   "cell_type": "raw",
   "id": "54a6cd74-222a-4ff4-9a8f-d9720071ebb6",
   "metadata": {},
   "source": [
    "def deconv():\n",
    "    decimg = Deconvolution(image=pimage, basis=basis_vectors)\n",
    "    \n",
    "    layer1, layer2, layer3 = decimg.out_images(mode=[0, 1, 2])\n",
    "    print(\"the end\")\n",
    "    \n",
    "    layer1.show()\n",
    "    layer2.show()\n",
    "    layer3.show()\n",
    "\n",
    "def save():\n",
    "    layer1.save(\"layer1.png\")\n",
    "    layer2.save(\"layer2.png\")\n",
    "    layer3.save(\"layer3.png\")\n",
    "\n",
    "deconv()"
   ]
  },
  {
   "cell_type": "markdown",
   "id": "b46f791f-8107-4993-aabf-4b9f1b323d1b",
   "metadata": {},
   "source": [
    "## scalar product"
   ]
  },
  {
   "cell_type": "code",
   "execution_count": null,
   "id": "23176060-78eb-4976-8d5d-e528e392f4c0",
   "metadata": {},
   "outputs": [],
   "source": [
    "rgb_values = np.array([\n",
    "    [172, 16, 30],\n",
    "    [83, 88, 130],\n",
    "    [132, 195, 255]\n",
    "])\n",
    "\n",
    "def normalize_rgb(rgb):\n",
    "    return list(map(lambda x: x / 255.0, rgb))\n",
    "\n",
    "basis_vectors = list(map(normalize_rgb, rgb_values))"
   ]
  },
  {
   "cell_type": "code",
   "execution_count": null,
   "id": "827a1762-e510-410d-9b95-100e37a69919",
   "metadata": {},
   "outputs": [],
   "source": [
    "@njit\n",
    "def deconvolve_image_numba(img_np, basis_vectors):\n",
    "    n_clusters = len(basis_vectors)\n",
    "    output_images = [np.full_like(img_np, 255, dtype=np.float32) for _ in range(n_clusters)]\n",
    "\n",
    "    white_threshold = 0.9  \n",
    "\n",
    "    for i in range(img_np.shape[0]):\n",
    "        for j in range(img_np.shape[1]):\n",
    "            pixel = img_np[i, j]\n",
    "            \n",
    "            #if np.all(pixel > white_threshold):\n",
    "            #    continue\n",
    "            \n",
    "            distances = np.zeros(n_clusters, dtype=np.float32)\n",
    "            for k in range(n_clusters):\n",
    "                distance = np.sqrt(np.sum((pixel - basis_vectors[k])**2))\n",
    "                distances[k] = distance\n",
    "            closest_index = np.argmin(distances)\n",
    "            output_images[closest_index][i, j] = pixel\n",
    "\n",
    "    return output_images"
   ]
  },
  {
   "cell_type": "code",
   "execution_count": null,
   "id": "aed3a87d-7133-4588-a66b-2185afedfa98",
   "metadata": {},
   "outputs": [],
   "source": [
    "def preprocess_and_postprocess(func):\n",
    "    def wrapper(img, basis_vectors):\n",
    "        img_np = np.array(img, dtype=np.float32) / 255.0\n",
    "        basis_vectors_np = np.array(basis_vectors, dtype=np.float32)\n",
    "        \n",
    "        output_images = func(img_np, basis_vectors_np)\n",
    "        \n",
    "        output_images_uint8 = [\n",
    "            (np.clip(img * 255, 0, 255)).astype(np.uint8) for img in output_images\n",
    "        ]\n",
    "        \n",
    "        return output_images_uint8\n",
    "    return wrapper\n"
   ]
  },
  {
   "cell_type": "code",
   "execution_count": null,
   "id": "118b243e-4108-4440-851a-ca74c2dbb959",
   "metadata": {},
   "outputs": [],
   "source": [
    "@preprocess_and_postprocess\n",
    "def deconvolve_image(img_np, basis_vectors):\n",
    "    return deconvolve_image_numba(img_np, basis_vectors)\n",
    "\n",
    "output_images = deconvolve_image(image, basis_vectors)"
   ]
  },
  {
   "cell_type": "code",
   "execution_count": null,
   "id": "669d1c34-0544-47d4-b13c-2493a6f43b47",
   "metadata": {
    "scrolled": true
   },
   "outputs": [],
   "source": [
    "for img in output_images:\n",
    "    show_image(img)"
   ]
  },
  {
   "cell_type": "markdown",
   "id": "9933854a-8770-42b4-8582-02e54b5f5c1c",
   "metadata": {},
   "source": [
    "### this is due to the blurriness of the image: noise on the seals, translucent signatures"
   ]
  },
  {
   "cell_type": "markdown",
   "id": "7a649ecf-1c47-485c-8b61-d2c6ab63e4f1",
   "metadata": {},
   "source": [
    "## LAB color filtering"
   ]
  },
  {
   "cell_type": "code",
   "execution_count": null,
   "id": "5d346691-d000-4555-90fa-68d37621db4e",
   "metadata": {},
   "outputs": [],
   "source": [
    "lab_image = cv2.cvtColor(image, cv2.COLOR_BGR2LAB)\n",
    "mask = cv2.inRange(lab_image, (0, 0, 0), (240, 255, 255)) \n",
    "cleaned_image = cv2.bitwise_and(image, image, mask=mask)"
   ]
  },
  {
   "cell_type": "code",
   "execution_count": null,
   "id": "c64aa15e-37e9-4d08-9536-8457c1403214",
   "metadata": {},
   "outputs": [],
   "source": [
    "before_after(image, cleaned_image)"
   ]
  },
  {
   "cell_type": "markdown",
   "id": "a45cbc69-7202-4f00-8962-2c90a5d5ca27",
   "metadata": {},
   "source": [
    "### CLAHE "
   ]
  },
  {
   "cell_type": "code",
   "execution_count": null,
   "id": "cda12a04-43ab-4b85-9211-2737f1d5ce4e",
   "metadata": {},
   "outputs": [],
   "source": [
    "lab_image = cv2.cvtColor(image, cv2.COLOR_BGR2LAB)\n",
    "l_channel, a, b = cv2.split(lab_image)\n",
    "clahe = cv2.createCLAHE(clipLimit=3.0, tileGridSize=(8, 8))\n",
    "cl = clahe.apply(l_channel)\n",
    "lab_image = cv2.merge((cl, a, b))\n",
    "enhanced_image = cv2.cvtColor(lab_image, cv2.COLOR_LAB2BGR)"
   ]
  },
  {
   "cell_type": "code",
   "execution_count": null,
   "id": "43295f6f-2b6b-4d96-9ace-5513bdd30cd0",
   "metadata": {},
   "outputs": [],
   "source": [
    "before_after(image, enhanced_image)"
   ]
  },
  {
   "cell_type": "markdown",
   "id": "77822bee-7c24-43b7-8d92-d54c0f63c988",
   "metadata": {},
   "source": [
    "### Gamma"
   ]
  },
  {
   "cell_type": "code",
   "execution_count": null,
   "id": "be70d177-167a-4cd4-946f-03330ae482d5",
   "metadata": {},
   "outputs": [],
   "source": [
    "def adjust_gamma(image, gamma=1.5):\n",
    "    invGamma = 1.0 / gamma\n",
    "    table = np.array([((i / 255.0) ** invGamma) * 255 for i in np.arange(0, 256)]).astype(\"uint8\")\n",
    "    return cv2.LUT(image, table)\n",
    "\n",
    "enhanced_image = adjust_gamma(image, gamma=0.25)\n",
    "before_after(image, enhanced_image)"
   ]
  },
  {
   "cell_type": "markdown",
   "id": "fe942490-2631-40f8-ba98-f185fdd69962",
   "metadata": {},
   "source": [
    "### apply Gamma filter"
   ]
  },
  {
   "cell_type": "code",
   "execution_count": null,
   "id": "5d5ecab8-1674-4127-acfd-c36b568d13fa",
   "metadata": {},
   "outputs": [],
   "source": [
    "image = enhanced_image\n",
    "show_image(image)"
   ]
  },
  {
   "cell_type": "markdown",
   "id": "48005755-4b37-46c8-bd0c-11ea7aa928b6",
   "metadata": {},
   "source": [
    "## remove noise"
   ]
  },
  {
   "cell_type": "code",
   "execution_count": null,
   "id": "3fc37a1f-49b4-4e81-9e65-c950daa5b9e1",
   "metadata": {},
   "outputs": [],
   "source": [
    "def apply_median_blur(image, ksize=5):\n",
    "    return cv2.medianBlur(image, ksize)\n",
    "\n",
    "def apply_gaussian_blur(image, ksize=(5, 5)):\n",
    "    return cv2.GaussianBlur(image, ksize, 0)\n",
    "\n",
    "def apply_bilateral_filter(image, d=9, sigma_color=75, sigma_space=75):\n",
    "    return cv2.bilateralFilter(image, d, sigma_color, sigma_space)\n",
    "\n",
    "def apply_non_local_means_denoising(image):\n",
    "    return cv2.fastNlMeansDenoisingColored(image, None, 10, 10, 7, 21)\n",
    "\n",
    "\n",
    "image_median_blur = apply_median_blur(image, ksize=5)\n",
    "image_gaussian_blur = apply_gaussian_blur(image, ksize=(5, 5))\n",
    "image_bilateral = apply_bilateral_filter(image)\n",
    "image_denoised = apply_non_local_means_denoising(image)"
   ]
  },
  {
   "cell_type": "code",
   "execution_count": null,
   "id": "cf0d5498-d0c1-4395-959a-30a41cc8f9f7",
   "metadata": {},
   "outputs": [],
   "source": [
    "# show_fullscreen_images([image, image_median_blur, image_gaussian_blur, image_bilateral, image_denoised], \n",
    "#                       [\"Original\", \"Median Blur\", \"Gaussian Blur\", \"Bilateral Filter\", \"Non-Local Means\"])"
   ]
  },
  {
   "cell_type": "markdown",
   "id": "69936569-3354-4263-bcd7-44bc2bd1070e",
   "metadata": {},
   "source": [
    "## apply gaussian blur"
   ]
  },
  {
   "cell_type": "code",
   "execution_count": null,
   "id": "0ab1563f-a62c-4cb4-ab58-d1fd76f2ad9f",
   "metadata": {},
   "outputs": [],
   "source": [
    "image = image_gaussian_blur\n",
    "show_image(image)"
   ]
  },
  {
   "cell_type": "code",
   "execution_count": null,
   "id": "2e7ea0b7-d093-46f9-aecb-74115edbde9b",
   "metadata": {},
   "outputs": [],
   "source": [
    "cv2.imwrite(\"enhanced_image.png\", enhanced_image)"
   ]
  },
  {
   "cell_type": "markdown",
   "id": "c1989825-f84e-462d-a9d6-4a3bcf4fd9cb",
   "metadata": {},
   "source": [
    "## try clustering again"
   ]
  },
  {
   "cell_type": "code",
   "execution_count": null,
   "id": "2f9004a0-48b5-4188-b15a-40a56ea4ba05",
   "metadata": {},
   "outputs": [],
   "source": [
    "rgb_values = np.array([\n",
    "    [206, 26, 2],\n",
    "    [23, 3, 3],\n",
    "    [8, 5, 193]\n",
    "])\n",
    "\n",
    "def normalize_rgb(rgb):\n",
    "    return list(map(lambda x: x / 255.0, rgb))\n",
    "\n",
    "basis_vectors = list(map(normalize_rgb, rgb_values))"
   ]
  },
  {
   "cell_type": "code",
   "execution_count": null,
   "id": "8545c9d2-88fe-40aa-9caa-b6054de7d004",
   "metadata": {},
   "outputs": [],
   "source": [
    "output_images = deconvolve_image(image, basis_vectors)\n",
    "for img in output_images:\n",
    "    show_image(img)"
   ]
  },
  {
   "cell_type": "code",
   "execution_count": null,
   "id": "4620eab2-5dc2-4874-b5ce-0b1426860081",
   "metadata": {},
   "outputs": [],
   "source": [
    "for idx, img in enumerate(output_images):\n",
    "    cv2.imwrite(f\"result_{idx}.jpg\", img)"
   ]
  },
  {
   "cell_type": "code",
   "execution_count": null,
   "id": "768c9567-34fd-4ffe-9fbd-5abc7fc0e5d8",
   "metadata": {},
   "outputs": [],
   "source": []
  }
 ],
 "metadata": {
  "kernelspec": {
   "display_name": "Python 3 (ipykernel)",
   "language": "python",
   "name": "python3"
  },
  "language_info": {
   "codemirror_mode": {
    "name": "ipython",
    "version": 3
   },
   "file_extension": ".py",
   "mimetype": "text/x-python",
   "name": "python",
   "nbconvert_exporter": "python",
   "pygments_lexer": "ipython3",
   "version": "3.11.5"
  }
 },
 "nbformat": 4,
 "nbformat_minor": 5
}
