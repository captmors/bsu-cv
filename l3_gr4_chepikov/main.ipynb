{
 "cells": [
  {
   "cell_type": "code",
   "execution_count": null,
   "id": "0feb0bb6-db50-4865-b29d-5aca3a4da402",
   "metadata": {
    "scrolled": true
   },
   "outputs": [],
   "source": [
    "!pip install pydicom"
   ]
  },
  {
   "cell_type": "code",
   "execution_count": null,
   "id": "f9958be1-faec-4c7a-99ee-572e652bf929",
   "metadata": {},
   "outputs": [],
   "source": [
    "import numpy as np\n",
    "import matplotlib.pyplot as plt\n",
    "import pydicom\n",
    "import cv2\n",
    "\n",
    "from pydicom.pixel_data_handlers.util import apply_voi_lut\n",
    "from skimage import data\n",
    "from skimage.draw import ellipse\n",
    "from skimage import io, color\n",
    "from skimage import data\n",
    "from skimage import transform\n",
    "from skimage import img_as_float"
   ]
  },
  {
   "cell_type": "code",
   "execution_count": null,
   "id": "6feb1aed-ff77-4b9f-8db7-f23e7f318be2",
   "metadata": {},
   "outputs": [],
   "source": [
    "image_pydicom = pydicom.read_file('0.063-1_2.5x_View2.dcm')\n",
    "image_arr = image_pydicom.pixel_array\n",
    "\n",
    "image = image_arr"
   ]
  },
  {
   "cell_type": "code",
   "execution_count": null,
   "id": "ca98e9a7-f53b-4097-8740-59aa69ace880",
   "metadata": {},
   "outputs": [],
   "source": [
    "def show_image(image_arr, title='Image'):\n",
    "    image_voi = apply_voi_lut(image_arr, image_pydicom)\n",
    "    \n",
    "    plt.figure(figsize=(6, 6))\n",
    "    plt.imshow(image, cmap='gray')\n",
    "    plt.title(title)\n",
    "    plt.axis('off')\n",
    "    plt.show()"
   ]
  },
  {
   "cell_type": "code",
   "execution_count": null,
   "id": "d0e16907-47e3-49fc-b971-6f2acd174fa7",
   "metadata": {},
   "outputs": [],
   "source": [
    "def save_image(image, filename='image.png'):\n",
    "    plt.imshow(image, cmap='gray')\n",
    "    plt.axis('off') \n",
    "    plt.savefig(filename, bbox_inches='tight', pad_inches=0)\n",
    "    plt.close()"
   ]
  },
  {
   "cell_type": "code",
   "execution_count": null,
   "id": "7a750b71-46fb-4df0-85dd-519a65db89aa",
   "metadata": {},
   "outputs": [],
   "source": [
    "show_image(image, 'Исходник')"
   ]
  },
  {
   "cell_type": "markdown",
   "id": "5fb92a75-9d95-48e2-b744-ea2c6083b878",
   "metadata": {},
   "source": [
    "## Analysis"
   ]
  },
  {
   "cell_type": "code",
   "execution_count": null,
   "id": "68846483-a431-4a17-8890-f7cf581d7cc8",
   "metadata": {},
   "outputs": [],
   "source": [
    "cum_image = None\n",
    "images = []\n",
    "images_after = []\n",
    "\n",
    "def reset():\n",
    "    global cum_image \n",
    "    cum_image = np.copy(image_arr)\n",
    "    global images \n",
    "    images = [image, cum_image]\n",
    "    global images_after\n",
    "    images_after = []\n",
    "\n",
    "reset()"
   ]
  },
  {
   "cell_type": "code",
   "execution_count": null,
   "id": "9d56d7e1-d864-4019-acd0-f5721aa277e2",
   "metadata": {},
   "outputs": [],
   "source": [
    "def accumulate():\n",
    "    global images\n",
    "    global images_after\n",
    "    images[1] = images_after[1]"
   ]
  },
  {
   "cell_type": "code",
   "execution_count": null,
   "id": "0af43a83-2d65-4e47-ad45-4d432abbc761",
   "metadata": {},
   "outputs": [],
   "source": [
    "def show_before_after(images, images_after, title_after=None, titles_before=['Original Image', 'Cumulative Image']):\n",
    "    fig, axes = plt.subplots(len(images), 2, figsize=(12, 6 * len(images)))\n",
    "\n",
    "    for i, (img, img_after) in enumerate(zip(images, images_after)):\n",
    "        title_before = titles_before[i] if titles_before else f'Image {i+1}'\n",
    "        title_after = title_after if title_after else f'Image {i+1} After'\n",
    "\n",
    "        # Original Image\n",
    "        axes[i, 0].imshow(img, cmap='gray')\n",
    "        axes[i, 0].set_title(title_before)\n",
    "        axes[i, 0].axis('off')\n",
    "\n",
    "        # Processed Image\n",
    "        axes[i, 1].imshow(img_after, cmap='gray')\n",
    "        axes[i, 1].set_title(title_after)\n",
    "        axes[i, 1].axis('off')\n",
    "\n",
    "    plt.show()"
   ]
  },
  {
   "cell_type": "markdown",
   "id": "c24e9d6f-46f3-4485-8db2-36f9d8f6edee",
   "metadata": {},
   "source": [
    "## Contrast stretching"
   ]
  },
  {
   "cell_type": "code",
   "execution_count": null,
   "id": "31d4a9c0-a66c-4dd5-90a6-2f20d957f20c",
   "metadata": {},
   "outputs": [],
   "source": [
    "print(image.shape)\n",
    "print(np.min(image))\n",
    "print(np.max(images))"
   ]
  },
  {
   "cell_type": "code",
   "execution_count": null,
   "id": "d7858e84-0022-4149-b78e-ce1134ce1c64",
   "metadata": {
    "scrolled": true
   },
   "outputs": [],
   "source": [
    "def contrast_stretching(image, min_out=0, max_out=255):\n",
    "    min_val = np.min(image)\n",
    "    max_val = np.max(image)\n",
    "    \n",
    "    if min_val == min_out and max_val == max_out:\n",
    "        print(\"Image already satisfies requirements\")\n",
    "        return image\n",
    "    \n",
    "    return ((image - min_val) / (max_val - min_val) * (max_out - min_out) + min_out).astype(np.uint8)\n",
    "\n",
    "images_after = list(map(contrast_stretching, images))\n",
    "show_before_after(images, images_after, 'Contrast Stretched')"
   ]
  },
  {
   "cell_type": "code",
   "execution_count": null,
   "id": "536fb93c-2af8-4b75-a5bf-3d0984a0db1d",
   "metadata": {},
   "outputs": [],
   "source": [
    "# accumulate()"
   ]
  },
  {
   "cell_type": "markdown",
   "id": "6d8a2b70-81de-4ea2-8f2b-1340e18520bd",
   "metadata": {},
   "source": [
    "## Gamma correction"
   ]
  },
  {
   "cell_type": "code",
   "execution_count": null,
   "id": "44aa5a56-7a1c-4e6a-8f8f-9a6c12b46a0a",
   "metadata": {
    "scrolled": true
   },
   "outputs": [],
   "source": [
    "def gamma_correction(image, gamma=1.0):\n",
    "    image = image / 255.0 \n",
    "    corrected = np.power(image, gamma) * 255\n",
    "    return np.clip(corrected, 0, 255).astype(np.uint8)\n",
    "\n",
    "images_after = list(map(lambda img: gamma_correction(img, gamma=.75), images))\n",
    "show_before_after(images, images_after, 'Gamma Correction')"
   ]
  },
  {
   "cell_type": "code",
   "execution_count": null,
   "id": "76f1c2ee-5b7a-416e-9c3e-1dff65cc7083",
   "metadata": {},
   "outputs": [],
   "source": [
    "# accumulate()"
   ]
  },
  {
   "cell_type": "markdown",
   "id": "69f550f5-427b-4c34-ad16-c3fe630eddf4",
   "metadata": {},
   "source": [
    "## Histogram Equalization"
   ]
  },
  {
   "cell_type": "code",
   "execution_count": null,
   "id": "e1428d8e-5ee2-4e3a-b4b9-33a73a5c958b",
   "metadata": {},
   "outputs": [],
   "source": [
    "from skimage import exposure\n",
    "\n",
    "def equalize_histogram(image):\n",
    "    return exposure.equalize_hist(image) * 255\n",
    "\n",
    "images_after = list(map(equalize_histogram, images))\n",
    "show_before_after(images, images_after, 'Equalize Histogram')"
   ]
  },
  {
   "cell_type": "code",
   "execution_count": null,
   "id": "1c115291-f963-4d06-875a-f765cf267a0b",
   "metadata": {},
   "outputs": [],
   "source": [
    "save_image(images_after[0], 'result.jpg')"
   ]
  },
  {
   "cell_type": "code",
   "execution_count": null,
   "id": "0afe0ede-e82f-4b20-aec3-3e34b418e671",
   "metadata": {},
   "outputs": [],
   "source": [
    "# accumulate()"
   ]
  },
  {
   "cell_type": "markdown",
   "id": "c264571c-ca30-463f-9db2-56bde0d341de",
   "metadata": {},
   "source": [
    "## Histogram projections"
   ]
  },
  {
   "cell_type": "code",
   "execution_count": null,
   "id": "40a66610-53f9-48ef-b78c-bb1db49432f2",
   "metadata": {
    "scrolled": true
   },
   "outputs": [],
   "source": [
    "def histogram_projection(image, proj_type='horizontal'):\n",
    "    if proj_type == 'horizontal':\n",
    "        return np.sum(image, axis=0)\n",
    "    elif proj_type == 'vertical':\n",
    "        return np.sum(image, axis=1)\n",
    "    else:\n",
    "        raise ValueError(\"Invalid projection type. Use 'horizontal' or 'vertical'.\")\n",
    "\n",
    "hist_proj_horizontal = [histogram_projection(img, 'horizontal') for img in images]\n",
    "hist_proj_vertical = [histogram_projection(img, 'vertical') for img in images]\n",
    "\n",
    "def show_histogram_projections(projections, titles=['Horizontal Projection', 'Vertical Projection']):\n",
    "    plt.figure(figsize=(12, 6 * len(projections)))\n",
    "    for i, (proj, title) in enumerate(zip(projections, titles)):\n",
    "        plt.subplot(len(projections), 1, i+1)\n",
    "        plt.plot(proj)\n",
    "        plt.title(title)\n",
    "        plt.xlabel('Pixel Position')\n",
    "        plt.ylabel('Sum of Intensities')\n",
    "    plt.show()\n",
    "\n",
    "show_histogram_projections([hist_proj_horizontal[0], hist_proj_vertical[0]])"
   ]
  },
  {
   "cell_type": "code",
   "execution_count": null,
   "id": "80660a07-ff42-4103-974c-a28710847dae",
   "metadata": {},
   "outputs": [],
   "source": [
    "image.shape"
   ]
  },
  {
   "cell_type": "markdown",
   "id": "a9f73dcc-cabf-4c78-817f-80ffbaaf7db0",
   "metadata": {},
   "source": [
    "## CLAHE"
   ]
  },
  {
   "cell_type": "code",
   "execution_count": null,
   "id": "32a6e89a-c6dc-4d8b-837a-678d914b6d6f",
   "metadata": {
    "scrolled": true
   },
   "outputs": [],
   "source": [
    "from skimage import exposure\n",
    "\n",
    "def adaptive_histogram_equalization(image, clip_limit=0.03):\n",
    "    clahe = exposure.equalize_adapthist(image, clip_limit=clip_limit)\n",
    "    return np.clip(clahe * 255, 0, 255).astype(np.uint8)\n",
    "\n",
    "images_after = list(map(adaptive_histogram_equalization, images))\n",
    "show_before_after(images, images_after, 'CLAHE')"
   ]
  },
  {
   "cell_type": "code",
   "execution_count": null,
   "id": "dc671794-ba24-4547-ada8-dade44fa9935",
   "metadata": {},
   "outputs": [],
   "source": [
    "# accumulate()"
   ]
  },
  {
   "cell_type": "markdown",
   "id": "817aba73-b6f3-47fa-87cc-249537d9adfa",
   "metadata": {},
   "source": [
    "## Sharpening"
   ]
  },
  {
   "cell_type": "code",
   "execution_count": null,
   "id": "64a79061-e6e7-4dbd-ab5e-1d9eed81e608",
   "metadata": {
    "scrolled": true
   },
   "outputs": [],
   "source": [
    "def sharpen_image(image):\n",
    "    kernel = np.array([[0, -1, 0], [-1, 5,-1], [0, -1, 0]])\n",
    "    return cv2.filter2D(image, -1, kernel)\n",
    "\n",
    "images_after = list(map(sharpen_image, images))\n",
    "show_before_after(images, images_after, 'Sharpened Image')"
   ]
  },
  {
   "cell_type": "code",
   "execution_count": null,
   "id": "ebf0db65-3b5c-4c52-9d68-391f9aad39e6",
   "metadata": {},
   "outputs": [],
   "source": [
    "# accumulate()"
   ]
  }
 ],
 "metadata": {
  "kernelspec": {
   "display_name": "Python 3 (ipykernel)",
   "language": "python",
   "name": "python3"
  },
  "language_info": {
   "codemirror_mode": {
    "name": "ipython",
    "version": 3
   },
   "file_extension": ".py",
   "mimetype": "text/x-python",
   "name": "python",
   "nbconvert_exporter": "python",
   "pygments_lexer": "ipython3",
   "version": "3.11.5"
  }
 },
 "nbformat": 4,
 "nbformat_minor": 5
}
